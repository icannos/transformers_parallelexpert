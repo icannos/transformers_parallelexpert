{
 "cells": [
  {
   "cell_type": "code",
   "id": "initial_id",
   "metadata": {
    "collapsed": true,
    "ExecuteTime": {
     "end_time": "2024-06-27T21:15:52.495413Z",
     "start_time": "2024-06-27T21:15:52.430270Z"
    }
   },
   "source": [
    "from hta.trace_analysis import TraceAnalysis\n",
    "analyzer = TraceAnalysis(trace_dir = \"../trace_dir/base_4096_14336_256_64_942c864b-6519-4b31-96bd-8c743aefe112\")\n"
   ],
   "outputs": [
    {
     "name": "stdout",
     "output_type": "stream",
     "text": [
      "2024-06-27 17:15:52,431 - hta - trace.py:L389 - INFO - ../trace_dir/base_4096_14336_256_64_942c864b-6519-4b31-96bd-8c743aefe112\n",
      "2024-06-27 17:15:52,456 - hta - trace_file.py:L61 - ERROR - If the trace file does not have the rank specified in it, then add the following snippet key to the json files to use HTA; \"distributedInfo\": {\"rank\": 0}. If there are multiple traces files, then each file should have a unique rank value.\n",
      "2024-06-27 17:15:52,457 - hta - trace_file.py:L92 - WARNING - There is no item in the rank to trace file map.\n",
      "2024-06-27 17:15:52,457 - hta - trace.py:L535 - INFO - ranks=[]\n",
      "2024-06-27 17:15:52,457 - hta - trace.py:L541 - ERROR - The list of ranks to be parsed is empty.\n"
     ]
    },
    {
     "ename": "ValueError",
     "evalue": "min() iterable argument is empty",
     "output_type": "error",
     "traceback": [
      "\u001B[0;31m---------------------------------------------------------------------------\u001B[0m",
      "\u001B[0;31mValueError\u001B[0m                                Traceback (most recent call last)",
      "Cell \u001B[0;32mIn[6], line 2\u001B[0m\n\u001B[1;32m      1\u001B[0m \u001B[38;5;28;01mfrom\u001B[39;00m \u001B[38;5;21;01mhta\u001B[39;00m\u001B[38;5;21;01m.\u001B[39;00m\u001B[38;5;21;01mtrace_analysis\u001B[39;00m \u001B[38;5;28;01mimport\u001B[39;00m TraceAnalysis\n\u001B[0;32m----> 2\u001B[0m analyzer \u001B[38;5;241m=\u001B[39m \u001B[43mTraceAnalysis\u001B[49m\u001B[43m(\u001B[49m\u001B[43mtrace_dir\u001B[49m\u001B[43m \u001B[49m\u001B[38;5;241;43m=\u001B[39;49m\u001B[43m \u001B[49m\u001B[38;5;124;43m\"\u001B[39;49m\u001B[38;5;124;43m../trace_dir/base_4096_14336_256_64_942c864b-6519-4b31-96bd-8c743aefe112\u001B[39;49m\u001B[38;5;124;43m\"\u001B[39;49m\u001B[43m)\u001B[49m\n",
      "File \u001B[0;32m~/Documents/hfcontribs/transformers_parallelexpert/venv/lib/python3.12/site-packages/hta/trace_analysis.py:35\u001B[0m, in \u001B[0;36mTraceAnalysis.__init__\u001B[0;34m(self, trace_files, trace_dir)\u001B[0m\n\u001B[1;32m     29\u001B[0m \u001B[38;5;28;01mdef\u001B[39;00m \u001B[38;5;21m__init__\u001B[39m(\n\u001B[1;32m     30\u001B[0m     \u001B[38;5;28mself\u001B[39m,\n\u001B[1;32m     31\u001B[0m     trace_files: Optional[Dict[\u001B[38;5;28mint\u001B[39m, \u001B[38;5;28mstr\u001B[39m]] \u001B[38;5;241m=\u001B[39m \u001B[38;5;28;01mNone\u001B[39;00m,\n\u001B[1;32m     32\u001B[0m     trace_dir: \u001B[38;5;28mstr\u001B[39m \u001B[38;5;241m=\u001B[39m DEFAULT_TRACE_DIR,\n\u001B[1;32m     33\u001B[0m ):\n\u001B[1;32m     34\u001B[0m     \u001B[38;5;28mself\u001B[39m\u001B[38;5;241m.\u001B[39mt \u001B[38;5;241m=\u001B[39m Trace(trace_files, trace_dir)\n\u001B[0;32m---> 35\u001B[0m     \u001B[38;5;28;43mself\u001B[39;49m\u001B[38;5;241;43m.\u001B[39;49m\u001B[43mt\u001B[49m\u001B[38;5;241;43m.\u001B[39;49m\u001B[43mload_traces\u001B[49m\u001B[43m(\u001B[49m\u001B[43m)\u001B[49m\n\u001B[1;32m     36\u001B[0m     \u001B[38;5;28;01massert\u001B[39;00m \u001B[38;5;28mself\u001B[39m\u001B[38;5;241m.\u001B[39mt\u001B[38;5;241m.\u001B[39mis_parsed \u001B[38;5;129;01mis\u001B[39;00m \u001B[38;5;28;01mTrue\u001B[39;00m\n",
      "File \u001B[0;32m~/Documents/hfcontribs/transformers_parallelexpert/venv/lib/python3.12/site-packages/hta/common/trace.py:414\u001B[0m, in \u001B[0;36mTrace.load_traces\u001B[0;34m(self)\u001B[0m\n\u001B[1;32m    412\u001B[0m     \u001B[38;5;28;01mreturn\u001B[39;00m\n\u001B[1;32m    413\u001B[0m \u001B[38;5;28mself\u001B[39m\u001B[38;5;241m.\u001B[39mparse_traces()\n\u001B[0;32m--> 414\u001B[0m \u001B[38;5;28;43mself\u001B[39;49m\u001B[38;5;241;43m.\u001B[39;49m\u001B[43malign_and_filter_trace\u001B[49m\u001B[43m(\u001B[49m\u001B[43m)\u001B[49m\n\u001B[1;32m    415\u001B[0m \u001B[38;5;28;01mfor\u001B[39;00m rank, trace_df \u001B[38;5;129;01min\u001B[39;00m \u001B[38;5;28mself\u001B[39m\u001B[38;5;241m.\u001B[39mtraces\u001B[38;5;241m.\u001B[39mitems():\n\u001B[1;32m    416\u001B[0m     df \u001B[38;5;241m=\u001B[39m \u001B[38;5;28mself\u001B[39m\u001B[38;5;241m.\u001B[39mtraces[rank]\u001B[38;5;241m.\u001B[39mset_index(\u001B[38;5;124m\"\u001B[39m\u001B[38;5;124mindex\u001B[39m\u001B[38;5;124m\"\u001B[39m, drop\u001B[38;5;241m=\u001B[39m\u001B[38;5;28;01mFalse\u001B[39;00m)\n",
      "File \u001B[0;32m~/Documents/hfcontribs/transformers_parallelexpert/venv/lib/python3.12/site-packages/hta/common/trace.py:552\u001B[0m, in \u001B[0;36mTrace.align_and_filter_trace\u001B[0;34m(self)\u001B[0m\n\u001B[1;32m    548\u001B[0m \u001B[38;5;28;01mdef\u001B[39;00m \u001B[38;5;21malign_and_filter_trace\u001B[39m(\u001B[38;5;28mself\u001B[39m):\n\u001B[1;32m    549\u001B[0m \u001B[38;5;250m    \u001B[39m\u001B[38;5;124;03m\"\"\"\u001B[39;00m\n\u001B[1;32m    550\u001B[0m \u001B[38;5;124;03m    Align the starting time across multiple ranks and filter events that belong to incomplete iterations.\u001B[39;00m\n\u001B[1;32m    551\u001B[0m \u001B[38;5;124;03m    \"\"\"\u001B[39;00m\n\u001B[0;32m--> 552\u001B[0m     \u001B[38;5;28;43mself\u001B[39;49m\u001B[38;5;241;43m.\u001B[39;49m\u001B[43m_align_all_ranks\u001B[49m\u001B[43m(\u001B[49m\u001B[43m)\u001B[49m\n\u001B[1;32m    553\u001B[0m     \u001B[38;5;28mself\u001B[39m\u001B[38;5;241m.\u001B[39m_filter_irrelevant_gpu_kernels()\n",
      "File \u001B[0;32m~/Documents/hfcontribs/transformers_parallelexpert/venv/lib/python3.12/site-packages/hta/common/trace.py:646\u001B[0m, in \u001B[0;36mTrace._align_all_ranks\u001B[0;34m(self)\u001B[0m\n\u001B[1;32m    642\u001B[0m \u001B[38;5;28;01mdef\u001B[39;00m \u001B[38;5;21m_align_all_ranks\u001B[39m(\u001B[38;5;28mself\u001B[39m) \u001B[38;5;241m-\u001B[39m\u001B[38;5;241m>\u001B[39m \u001B[38;5;28;01mNone\u001B[39;00m:\n\u001B[1;32m    643\u001B[0m \u001B[38;5;250m    \u001B[39m\u001B[38;5;124;03m\"\"\"\u001B[39;00m\n\u001B[1;32m    644\u001B[0m \u001B[38;5;124;03m    Align dataframes for all ranks such that the earliest event starts at time 0.\u001B[39;00m\n\u001B[1;32m    645\u001B[0m \u001B[38;5;124;03m    \"\"\"\u001B[39;00m\n\u001B[0;32m--> 646\u001B[0m     \u001B[38;5;28mself\u001B[39m\u001B[38;5;241m.\u001B[39mmin_ts \u001B[38;5;241m=\u001B[39m \u001B[38;5;28;43mmin\u001B[39;49m\u001B[43m(\u001B[49m\u001B[43mtrace_df\u001B[49m\u001B[43m[\u001B[49m\u001B[38;5;124;43m\"\u001B[39;49m\u001B[38;5;124;43mts\u001B[39;49m\u001B[38;5;124;43m\"\u001B[39;49m\u001B[43m]\u001B[49m\u001B[38;5;241;43m.\u001B[39;49m\u001B[43mmin\u001B[49m\u001B[43m(\u001B[49m\u001B[43m)\u001B[49m\u001B[43m \u001B[49m\u001B[38;5;28;43;01mfor\u001B[39;49;00m\u001B[43m \u001B[49m\u001B[43mtrace_df\u001B[49m\u001B[43m \u001B[49m\u001B[38;5;129;43;01min\u001B[39;49;00m\u001B[43m \u001B[49m\u001B[38;5;28;43mself\u001B[39;49m\u001B[38;5;241;43m.\u001B[39;49m\u001B[43mtraces\u001B[49m\u001B[38;5;241;43m.\u001B[39;49m\u001B[43mvalues\u001B[49m\u001B[43m(\u001B[49m\u001B[43m)\u001B[49m\u001B[43m)\u001B[49m\n\u001B[1;32m    647\u001B[0m     \u001B[38;5;28;01mfor\u001B[39;00m rank, trace_df \u001B[38;5;129;01min\u001B[39;00m \u001B[38;5;28mself\u001B[39m\u001B[38;5;241m.\u001B[39mtraces\u001B[38;5;241m.\u001B[39mitems():\n\u001B[1;32m    648\u001B[0m         trace_df[\u001B[38;5;124m\"\u001B[39m\u001B[38;5;124mts\u001B[39m\u001B[38;5;124m\"\u001B[39m] \u001B[38;5;241m=\u001B[39m trace_df[\u001B[38;5;124m\"\u001B[39m\u001B[38;5;124mts\u001B[39m\u001B[38;5;124m\"\u001B[39m] \u001B[38;5;241m-\u001B[39m \u001B[38;5;28mself\u001B[39m\u001B[38;5;241m.\u001B[39mmin_ts\n",
      "\u001B[0;31mValueError\u001B[0m: min() iterable argument is empty"
     ]
    }
   ],
   "execution_count": 6
  },
  {
   "metadata": {
    "ExecuteTime": {
     "end_time": "2024-06-27T21:16:05.104715Z",
     "start_time": "2024-06-27T21:16:05.092569Z"
    }
   },
   "cell_type": "code",
   "source": "",
   "id": "2cbcef9283aa9c82",
   "outputs": [
    {
     "ename": "NameError",
     "evalue": "name 'analyzer' is not defined",
     "output_type": "error",
     "traceback": [
      "\u001B[0;31m---------------------------------------------------------------------------\u001B[0m",
      "\u001B[0;31mNameError\u001B[0m                                 Traceback (most recent call last)",
      "Cell \u001B[0;32mIn[7], line 1\u001B[0m\n\u001B[0;32m----> 1\u001B[0m \u001B[43manalyzer\u001B[49m\n",
      "\u001B[0;31mNameError\u001B[0m: name 'analyzer' is not defined"
     ]
    }
   ],
   "execution_count": 7
  },
  {
   "metadata": {},
   "cell_type": "code",
   "outputs": [],
   "execution_count": null,
   "source": "",
   "id": "fee34e59f35420ff"
  }
 ],
 "metadata": {
  "kernelspec": {
   "display_name": "Python 3",
   "language": "python",
   "name": "python3"
  },
  "language_info": {
   "codemirror_mode": {
    "name": "ipython",
    "version": 2
   },
   "file_extension": ".py",
   "mimetype": "text/x-python",
   "name": "python",
   "nbconvert_exporter": "python",
   "pygments_lexer": "ipython2",
   "version": "2.7.6"
  }
 },
 "nbformat": 4,
 "nbformat_minor": 5
}
