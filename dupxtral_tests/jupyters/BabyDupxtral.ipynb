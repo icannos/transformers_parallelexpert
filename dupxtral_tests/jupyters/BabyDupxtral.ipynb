{
 "cells": [
  {
   "cell_type": "code",
   "id": "initial_id",
   "metadata": {
    "collapsed": true,
    "jupyter": {
     "outputs_hidden": true
    },
    "ExecuteTime": {
     "end_time": "2024-08-19T20:37:40.124808Z",
     "start_time": "2024-08-19T20:37:37.953404Z"
    }
   },
   "source": [
    "from typing import Dict\n",
    "\n",
    "from transformers.models.dupxtral.configuration_dupxtral import DupxtralConfig\n",
    "from transformers.models.mixtral.configuration_mixtral import MixtralConfig\n",
    "\n",
    "from transformers.models.dupxtral.modeling_dupxtral import DupxtralModel\n",
    "from transformers.models.mixtral.modeling_mixtral import MixtralModel\n",
    "\n",
    "import torch\n",
    "from torch import nn\n",
    "from torch.nn import functional as F\n",
    "\n",
    "\n"
   ],
   "outputs": [],
   "execution_count": 1
  },
  {
   "cell_type": "code",
   "id": "fbbff09d0ae84c71",
   "metadata": {
    "ExecuteTime": {
     "end_time": "2024-08-19T20:37:40.129300Z",
     "start_time": "2024-08-19T20:37:40.126294Z"
    }
   },
   "source": [
    "\n",
    "\n",
    "N_expert = 8\n",
    "N_hidden_layers = 4\n",
    "\n",
    "\n",
    "# All layers have the same duplication pattern\n",
    "duplicate_experts = [[3, 2, 2, 1, 3, 1, 1, 1] for _ in range(N_hidden_layers)]\n",
    "\n"
   ],
   "outputs": [],
   "execution_count": 2
  },
  {
   "cell_type": "code",
   "id": "912f76b06572f946",
   "metadata": {
    "ExecuteTime": {
     "end_time": "2024-08-19T20:37:40.137050Z",
     "start_time": "2024-08-19T20:37:40.130285Z"
    }
   },
   "source": [
    "\n",
    "# We remap the experts randomly: each initial expert usage is remapped to a random duplicate\n",
    "pair_remaping = [dict() for _ in range(N_hidden_layers)]\n",
    "\n",
    "for l in range(N_hidden_layers):\n",
    "    for i in range(N_expert):\n",
    "        for j in range(N_expert):\n",
    "            n_dup_i = duplicate_experts[l][i]\n",
    "            n_dup_j = duplicate_experts[l][j]\n",
    "            \n",
    "            s_i = sum(duplicate_experts[l][:i])\n",
    "            s_j = sum(duplicate_experts[l][:j])\n",
    "\n",
    "            # random remapping\n",
    "            \n",
    "            new_i = s_i + torch.randint(0, n_dup_i, (1,)).item()\n",
    "            new_j = s_j + torch.randint(0, n_dup_j, (1,)).item()\n",
    "\n",
    "            pair_remaping[l][(i, j)] = (new_i, new_j)\n"
   ],
   "outputs": [],
   "execution_count": 3
  },
  {
   "cell_type": "markdown",
   "id": "3499199259247454",
   "metadata": {},
   "source": []
  },
  {
   "cell_type": "code",
   "id": "38a6b4ad5a618431",
   "metadata": {
    "ExecuteTime": {
     "end_time": "2024-08-19T20:37:40.141619Z",
     "start_time": "2024-08-19T20:37:40.138371Z"
    }
   },
   "source": [
    "\n",
    "\n",
    "# We make initialize two dummy models. One normal mixtral and one dupxtral with the same configuration + duplication\n",
    "\n",
    "config_dupxtral = DupxtralConfig(hidden_size=16, num_hidden_layers=N_hidden_layers, num_local_experts=N_expert,\n",
    "                                 intermediate_size=32,\n",
    "                                 num_attention_heads=8, experts_duplicate=duplicate_experts,\n",
    "                                 vocab_size=128, experts_remapping=pair_remaping,\n",
    "                                 )\n",
    "\n",
    "config_mixtral = MixtralConfig(hidden_size=16, num_hidden_layers=N_hidden_layers, num_local_experts=N_expert,\n",
    "                               intermediate_size=32,\n",
    "                               num_attention_heads=8,\n",
    "                               vocab_size=128,\n",
    "                               forward='parallel',\n",
    "                               )\n"
   ],
   "outputs": [],
   "execution_count": 4
  },
  {
   "cell_type": "code",
   "id": "8650ed9851151791",
   "metadata": {
    "ExecuteTime": {
     "end_time": "2024-08-19T20:37:40.193464Z",
     "start_time": "2024-08-19T20:37:40.142624Z"
    }
   },
   "source": [
    "# We build the models architecture and initialize the weights randomly\n",
    "\n",
    "initial_model = MixtralModel(config=config_mixtral)\n",
    "\n",
    "dupxtral_model = DupxtralModel(config=config_dupxtral)"
   ],
   "outputs": [],
   "execution_count": 5
  },
  {
   "cell_type": "code",
   "id": "b6cd023b3200e6b2",
   "metadata": {
    "ExecuteTime": {
     "end_time": "2024-08-19T20:37:40.196606Z",
     "start_time": "2024-08-19T20:37:40.194595Z"
    }
   },
   "source": [],
   "outputs": [],
   "execution_count": 5
  },
  {
   "cell_type": "code",
   "id": "785d0aa4f74e5ad8",
   "metadata": {
    "ExecuteTime": {
     "end_time": "2024-08-19T20:37:40.199662Z",
     "start_time": "2024-08-19T20:37:40.197849Z"
    }
   },
   "source": [],
   "outputs": [],
   "execution_count": 5
  },
  {
   "cell_type": "code",
   "id": "ec3e40b4cdbf1c9f",
   "metadata": {
    "ExecuteTime": {
     "end_time": "2024-08-19T20:37:40.215296Z",
     "start_time": "2024-08-19T20:37:40.200810Z"
    }
   },
   "source": [
    "\n",
    "# get states of the initial model\n",
    "initial_state_dict = initial_model.state_dict() # this Dict[str, torch.Tensor]\n",
    "\n",
    "\n",
    "\n",
    "# A lot of machinery for the very simple task of remapping the experts\n",
    "\n",
    "def get_parts(k):\n",
    "    parts = k.split('.')\n",
    "    idx = parts.index('block_sparse_moe')\n",
    "\n",
    "    layer_idx = int(parts[idx - 1])\n",
    "    expert_idx = int(parts[idx + 2])\n",
    "    prefix = '.'.join(parts[:idx - 1])\n",
    "    suffix = '.'.join(parts[idx + 3:])\n",
    "\n",
    "    return layer_idx, expert_idx, prefix, suffix\n",
    "\n",
    "\n",
    "def get_experts_paths(initial_state_dict):\n",
    "    '''\n",
    "    Return the path to the top level of an expert block. In practice it has different children w1, w2, w3\n",
    "    We remove the children to get the path to the top level\n",
    "    '''\n",
    "    expert_weights_names = [k for k in initial_state_dict.keys() if 'block_sparse_moe.experts' in k]\n",
    "    experts_paths = set()\n",
    "    for k in sorted(expert_weights_names):\n",
    "        layer_idx, expert_idx, prefix, suffix = get_parts(k)\n",
    "\n",
    "        expert_path = f\"{prefix}.{layer_idx}.block_sparse_moe.experts.{expert_idx}\"\n",
    "        experts_paths.add(expert_path)\n",
    "\n",
    "    return experts_paths\n",
    "\n",
    "\n",
    "def get_all_paths_for_experts(initial_state_dict):\n",
    "    '''\n",
    "    :return: Dict[str, List[str]] where the key is the path to the top level of the expert block and the value is a list of the children paths\n",
    "    '''\n",
    "    experts_paths = get_experts_paths(initial_state_dict)\n",
    "\n",
    "    all_paths = {}\n",
    "\n",
    "    for expert_path in experts_paths:\n",
    "        all_paths[expert_path] = [k[len(expert_path) + 1:]\n",
    "                                  for k in initial_state_dict.keys() if expert_path in k]\n",
    "\n",
    "    return all_paths\n",
    "\n",
    "\n",
    "def create_duplicated_names(all_paths, experts_duplication):\n",
    "    '''\n",
    "    Build the new names for the duplicated experts and their children\n",
    "    \n",
    "    expert_id | new_id\n",
    "    0         | 0\n",
    "    0         | 1\n",
    "    0         | 2\n",
    "    1         | 3\n",
    "    1         | 4\n",
    "    2         | 5\n",
    "    2         | 6\n",
    "    ...\n",
    "    \n",
    "    Expert 0 is duplicated 3 times, expert 1 is duplicated 2 times, expert 2 is duplicated 2 times, etc.\n",
    "    \n",
    "    :return: Dict[str, str] where the key is the new name and the value is the old name\n",
    "    '''\n",
    "    layer_experts_current = {}\n",
    "\n",
    "    expert_weights_path: Dict[str, str] = {}\n",
    "\n",
    "    for expert_path, paths in sorted(all_paths.items()):\n",
    "        layer_idx, expert_idx, prefix, _ = get_parts(expert_path)\n",
    "\n",
    "        if layer_idx not in layer_experts_current:\n",
    "            layer_experts_current[layer_idx] = 0\n",
    "\n",
    "        layer_expert_idx = layer_experts_current[layer_idx]\n",
    "        for _ in range(experts_duplication[layer_idx][expert_idx]):\n",
    "            current_expert_path = f\"{prefix}.{layer_idx}.block_sparse_moe.experts.{layer_expert_idx}\"\n",
    "            layer_expert_idx += 1\n",
    "            for p in paths:\n",
    "                expert_weights_path[f\"{current_expert_path}.{p}\"] = f\"{expert_path}.{p}\"\n",
    "\n",
    "        layer_experts_current[layer_idx] = layer_expert_idx\n",
    "            \n",
    "    return expert_weights_path\n",
    "\n",
    "\n",
    "def convert_initial_state_dict_to_dupxtral(initial_state_dict, config_dupxtral):\n",
    "    '''\n",
    "    Convert the initial state_dict to the dupxtral model state_dict\n",
    "    :param initial_state_dict: \n",
    "    :param config_dupxtral: \n",
    "    :return: Dupxtral model state_dict Dict[str, torch.Tensor]\n",
    "    '''\n",
    "    expert_weights_names = [k for k in initial_state_dict.keys() if 'block_sparse_moe.experts' in k]\n",
    "\n",
    "    new_state_dict = {}\n",
    "\n",
    "    # copy everything from the initial state_dict but the expert weights\n",
    "    for k, v in initial_state_dict.items():\n",
    "        if k not in expert_weights_names:\n",
    "            new_state_dict[k] = v\n",
    "\n",
    "    all_paths = get_all_paths_for_experts(initial_state_dict)\n",
    "    \n",
    "    expert_weights_path = create_duplicated_names(all_paths, config_dupxtral.experts_duplicate)\n",
    "    \n",
    "    # actually duplicate the weights based on new and old names\n",
    "    for new_name, old_name in expert_weights_path.items():\n",
    "        new_state_dict[new_name] = initial_state_dict[old_name]\n",
    "        print(new_name, old_name)\n",
    "\n",
    "    return new_state_dict\n",
    "\n",
    "\n",
    "new_state_dict = convert_initial_state_dict_to_dupxtral(initial_state_dict, config_dupxtral)\n",
    "\n"
   ],
   "outputs": [
    {
     "name": "stdout",
     "output_type": "stream",
     "text": [
      "layers.0.block_sparse_moe.experts.0.w1.weight layers.0.block_sparse_moe.experts.0.w1.weight\n",
      "layers.0.block_sparse_moe.experts.0.w2.weight layers.0.block_sparse_moe.experts.0.w2.weight\n",
      "layers.0.block_sparse_moe.experts.0.w3.weight layers.0.block_sparse_moe.experts.0.w3.weight\n",
      "layers.0.block_sparse_moe.experts.1.w1.weight layers.0.block_sparse_moe.experts.0.w1.weight\n",
      "layers.0.block_sparse_moe.experts.1.w2.weight layers.0.block_sparse_moe.experts.0.w2.weight\n",
      "layers.0.block_sparse_moe.experts.1.w3.weight layers.0.block_sparse_moe.experts.0.w3.weight\n",
      "layers.0.block_sparse_moe.experts.2.w1.weight layers.0.block_sparse_moe.experts.0.w1.weight\n",
      "layers.0.block_sparse_moe.experts.2.w2.weight layers.0.block_sparse_moe.experts.0.w2.weight\n",
      "layers.0.block_sparse_moe.experts.2.w3.weight layers.0.block_sparse_moe.experts.0.w3.weight\n",
      "layers.0.block_sparse_moe.experts.3.w1.weight layers.0.block_sparse_moe.experts.1.w1.weight\n",
      "layers.0.block_sparse_moe.experts.3.w2.weight layers.0.block_sparse_moe.experts.1.w2.weight\n",
      "layers.0.block_sparse_moe.experts.3.w3.weight layers.0.block_sparse_moe.experts.1.w3.weight\n",
      "layers.0.block_sparse_moe.experts.4.w1.weight layers.0.block_sparse_moe.experts.1.w1.weight\n",
      "layers.0.block_sparse_moe.experts.4.w2.weight layers.0.block_sparse_moe.experts.1.w2.weight\n",
      "layers.0.block_sparse_moe.experts.4.w3.weight layers.0.block_sparse_moe.experts.1.w3.weight\n",
      "layers.0.block_sparse_moe.experts.5.w1.weight layers.0.block_sparse_moe.experts.2.w1.weight\n",
      "layers.0.block_sparse_moe.experts.5.w2.weight layers.0.block_sparse_moe.experts.2.w2.weight\n",
      "layers.0.block_sparse_moe.experts.5.w3.weight layers.0.block_sparse_moe.experts.2.w3.weight\n",
      "layers.0.block_sparse_moe.experts.6.w1.weight layers.0.block_sparse_moe.experts.2.w1.weight\n",
      "layers.0.block_sparse_moe.experts.6.w2.weight layers.0.block_sparse_moe.experts.2.w2.weight\n",
      "layers.0.block_sparse_moe.experts.6.w3.weight layers.0.block_sparse_moe.experts.2.w3.weight\n",
      "layers.0.block_sparse_moe.experts.7.w1.weight layers.0.block_sparse_moe.experts.3.w1.weight\n",
      "layers.0.block_sparse_moe.experts.7.w2.weight layers.0.block_sparse_moe.experts.3.w2.weight\n",
      "layers.0.block_sparse_moe.experts.7.w3.weight layers.0.block_sparse_moe.experts.3.w3.weight\n",
      "layers.0.block_sparse_moe.experts.8.w1.weight layers.0.block_sparse_moe.experts.4.w1.weight\n",
      "layers.0.block_sparse_moe.experts.8.w2.weight layers.0.block_sparse_moe.experts.4.w2.weight\n",
      "layers.0.block_sparse_moe.experts.8.w3.weight layers.0.block_sparse_moe.experts.4.w3.weight\n",
      "layers.0.block_sparse_moe.experts.9.w1.weight layers.0.block_sparse_moe.experts.4.w1.weight\n",
      "layers.0.block_sparse_moe.experts.9.w2.weight layers.0.block_sparse_moe.experts.4.w2.weight\n",
      "layers.0.block_sparse_moe.experts.9.w3.weight layers.0.block_sparse_moe.experts.4.w3.weight\n",
      "layers.0.block_sparse_moe.experts.10.w1.weight layers.0.block_sparse_moe.experts.4.w1.weight\n",
      "layers.0.block_sparse_moe.experts.10.w2.weight layers.0.block_sparse_moe.experts.4.w2.weight\n",
      "layers.0.block_sparse_moe.experts.10.w3.weight layers.0.block_sparse_moe.experts.4.w3.weight\n",
      "layers.0.block_sparse_moe.experts.11.w1.weight layers.0.block_sparse_moe.experts.5.w1.weight\n",
      "layers.0.block_sparse_moe.experts.11.w2.weight layers.0.block_sparse_moe.experts.5.w2.weight\n",
      "layers.0.block_sparse_moe.experts.11.w3.weight layers.0.block_sparse_moe.experts.5.w3.weight\n",
      "layers.0.block_sparse_moe.experts.12.w1.weight layers.0.block_sparse_moe.experts.6.w1.weight\n",
      "layers.0.block_sparse_moe.experts.12.w2.weight layers.0.block_sparse_moe.experts.6.w2.weight\n",
      "layers.0.block_sparse_moe.experts.12.w3.weight layers.0.block_sparse_moe.experts.6.w3.weight\n",
      "layers.0.block_sparse_moe.experts.13.w1.weight layers.0.block_sparse_moe.experts.7.w1.weight\n",
      "layers.0.block_sparse_moe.experts.13.w2.weight layers.0.block_sparse_moe.experts.7.w2.weight\n",
      "layers.0.block_sparse_moe.experts.13.w3.weight layers.0.block_sparse_moe.experts.7.w3.weight\n",
      "layers.1.block_sparse_moe.experts.0.w1.weight layers.1.block_sparse_moe.experts.0.w1.weight\n",
      "layers.1.block_sparse_moe.experts.0.w2.weight layers.1.block_sparse_moe.experts.0.w2.weight\n",
      "layers.1.block_sparse_moe.experts.0.w3.weight layers.1.block_sparse_moe.experts.0.w3.weight\n",
      "layers.1.block_sparse_moe.experts.1.w1.weight layers.1.block_sparse_moe.experts.0.w1.weight\n",
      "layers.1.block_sparse_moe.experts.1.w2.weight layers.1.block_sparse_moe.experts.0.w2.weight\n",
      "layers.1.block_sparse_moe.experts.1.w3.weight layers.1.block_sparse_moe.experts.0.w3.weight\n",
      "layers.1.block_sparse_moe.experts.2.w1.weight layers.1.block_sparse_moe.experts.0.w1.weight\n",
      "layers.1.block_sparse_moe.experts.2.w2.weight layers.1.block_sparse_moe.experts.0.w2.weight\n",
      "layers.1.block_sparse_moe.experts.2.w3.weight layers.1.block_sparse_moe.experts.0.w3.weight\n",
      "layers.1.block_sparse_moe.experts.3.w1.weight layers.1.block_sparse_moe.experts.1.w1.weight\n",
      "layers.1.block_sparse_moe.experts.3.w2.weight layers.1.block_sparse_moe.experts.1.w2.weight\n",
      "layers.1.block_sparse_moe.experts.3.w3.weight layers.1.block_sparse_moe.experts.1.w3.weight\n",
      "layers.1.block_sparse_moe.experts.4.w1.weight layers.1.block_sparse_moe.experts.1.w1.weight\n",
      "layers.1.block_sparse_moe.experts.4.w2.weight layers.1.block_sparse_moe.experts.1.w2.weight\n",
      "layers.1.block_sparse_moe.experts.4.w3.weight layers.1.block_sparse_moe.experts.1.w3.weight\n",
      "layers.1.block_sparse_moe.experts.5.w1.weight layers.1.block_sparse_moe.experts.2.w1.weight\n",
      "layers.1.block_sparse_moe.experts.5.w2.weight layers.1.block_sparse_moe.experts.2.w2.weight\n",
      "layers.1.block_sparse_moe.experts.5.w3.weight layers.1.block_sparse_moe.experts.2.w3.weight\n",
      "layers.1.block_sparse_moe.experts.6.w1.weight layers.1.block_sparse_moe.experts.2.w1.weight\n",
      "layers.1.block_sparse_moe.experts.6.w2.weight layers.1.block_sparse_moe.experts.2.w2.weight\n",
      "layers.1.block_sparse_moe.experts.6.w3.weight layers.1.block_sparse_moe.experts.2.w3.weight\n",
      "layers.1.block_sparse_moe.experts.7.w1.weight layers.1.block_sparse_moe.experts.3.w1.weight\n",
      "layers.1.block_sparse_moe.experts.7.w2.weight layers.1.block_sparse_moe.experts.3.w2.weight\n",
      "layers.1.block_sparse_moe.experts.7.w3.weight layers.1.block_sparse_moe.experts.3.w3.weight\n",
      "layers.1.block_sparse_moe.experts.8.w1.weight layers.1.block_sparse_moe.experts.4.w1.weight\n",
      "layers.1.block_sparse_moe.experts.8.w2.weight layers.1.block_sparse_moe.experts.4.w2.weight\n",
      "layers.1.block_sparse_moe.experts.8.w3.weight layers.1.block_sparse_moe.experts.4.w3.weight\n",
      "layers.1.block_sparse_moe.experts.9.w1.weight layers.1.block_sparse_moe.experts.4.w1.weight\n",
      "layers.1.block_sparse_moe.experts.9.w2.weight layers.1.block_sparse_moe.experts.4.w2.weight\n",
      "layers.1.block_sparse_moe.experts.9.w3.weight layers.1.block_sparse_moe.experts.4.w3.weight\n",
      "layers.1.block_sparse_moe.experts.10.w1.weight layers.1.block_sparse_moe.experts.4.w1.weight\n",
      "layers.1.block_sparse_moe.experts.10.w2.weight layers.1.block_sparse_moe.experts.4.w2.weight\n",
      "layers.1.block_sparse_moe.experts.10.w3.weight layers.1.block_sparse_moe.experts.4.w3.weight\n",
      "layers.1.block_sparse_moe.experts.11.w1.weight layers.1.block_sparse_moe.experts.5.w1.weight\n",
      "layers.1.block_sparse_moe.experts.11.w2.weight layers.1.block_sparse_moe.experts.5.w2.weight\n",
      "layers.1.block_sparse_moe.experts.11.w3.weight layers.1.block_sparse_moe.experts.5.w3.weight\n",
      "layers.1.block_sparse_moe.experts.12.w1.weight layers.1.block_sparse_moe.experts.6.w1.weight\n",
      "layers.1.block_sparse_moe.experts.12.w2.weight layers.1.block_sparse_moe.experts.6.w2.weight\n",
      "layers.1.block_sparse_moe.experts.12.w3.weight layers.1.block_sparse_moe.experts.6.w3.weight\n",
      "layers.1.block_sparse_moe.experts.13.w1.weight layers.1.block_sparse_moe.experts.7.w1.weight\n",
      "layers.1.block_sparse_moe.experts.13.w2.weight layers.1.block_sparse_moe.experts.7.w2.weight\n",
      "layers.1.block_sparse_moe.experts.13.w3.weight layers.1.block_sparse_moe.experts.7.w3.weight\n",
      "layers.2.block_sparse_moe.experts.0.w1.weight layers.2.block_sparse_moe.experts.0.w1.weight\n",
      "layers.2.block_sparse_moe.experts.0.w2.weight layers.2.block_sparse_moe.experts.0.w2.weight\n",
      "layers.2.block_sparse_moe.experts.0.w3.weight layers.2.block_sparse_moe.experts.0.w3.weight\n",
      "layers.2.block_sparse_moe.experts.1.w1.weight layers.2.block_sparse_moe.experts.0.w1.weight\n",
      "layers.2.block_sparse_moe.experts.1.w2.weight layers.2.block_sparse_moe.experts.0.w2.weight\n",
      "layers.2.block_sparse_moe.experts.1.w3.weight layers.2.block_sparse_moe.experts.0.w3.weight\n",
      "layers.2.block_sparse_moe.experts.2.w1.weight layers.2.block_sparse_moe.experts.0.w1.weight\n",
      "layers.2.block_sparse_moe.experts.2.w2.weight layers.2.block_sparse_moe.experts.0.w2.weight\n",
      "layers.2.block_sparse_moe.experts.2.w3.weight layers.2.block_sparse_moe.experts.0.w3.weight\n",
      "layers.2.block_sparse_moe.experts.3.w1.weight layers.2.block_sparse_moe.experts.1.w1.weight\n",
      "layers.2.block_sparse_moe.experts.3.w2.weight layers.2.block_sparse_moe.experts.1.w2.weight\n",
      "layers.2.block_sparse_moe.experts.3.w3.weight layers.2.block_sparse_moe.experts.1.w3.weight\n",
      "layers.2.block_sparse_moe.experts.4.w1.weight layers.2.block_sparse_moe.experts.1.w1.weight\n",
      "layers.2.block_sparse_moe.experts.4.w2.weight layers.2.block_sparse_moe.experts.1.w2.weight\n",
      "layers.2.block_sparse_moe.experts.4.w3.weight layers.2.block_sparse_moe.experts.1.w3.weight\n",
      "layers.2.block_sparse_moe.experts.5.w1.weight layers.2.block_sparse_moe.experts.2.w1.weight\n",
      "layers.2.block_sparse_moe.experts.5.w2.weight layers.2.block_sparse_moe.experts.2.w2.weight\n",
      "layers.2.block_sparse_moe.experts.5.w3.weight layers.2.block_sparse_moe.experts.2.w3.weight\n",
      "layers.2.block_sparse_moe.experts.6.w1.weight layers.2.block_sparse_moe.experts.2.w1.weight\n",
      "layers.2.block_sparse_moe.experts.6.w2.weight layers.2.block_sparse_moe.experts.2.w2.weight\n",
      "layers.2.block_sparse_moe.experts.6.w3.weight layers.2.block_sparse_moe.experts.2.w3.weight\n",
      "layers.2.block_sparse_moe.experts.7.w1.weight layers.2.block_sparse_moe.experts.3.w1.weight\n",
      "layers.2.block_sparse_moe.experts.7.w2.weight layers.2.block_sparse_moe.experts.3.w2.weight\n",
      "layers.2.block_sparse_moe.experts.7.w3.weight layers.2.block_sparse_moe.experts.3.w3.weight\n",
      "layers.2.block_sparse_moe.experts.8.w1.weight layers.2.block_sparse_moe.experts.4.w1.weight\n",
      "layers.2.block_sparse_moe.experts.8.w2.weight layers.2.block_sparse_moe.experts.4.w2.weight\n",
      "layers.2.block_sparse_moe.experts.8.w3.weight layers.2.block_sparse_moe.experts.4.w3.weight\n",
      "layers.2.block_sparse_moe.experts.9.w1.weight layers.2.block_sparse_moe.experts.4.w1.weight\n",
      "layers.2.block_sparse_moe.experts.9.w2.weight layers.2.block_sparse_moe.experts.4.w2.weight\n",
      "layers.2.block_sparse_moe.experts.9.w3.weight layers.2.block_sparse_moe.experts.4.w3.weight\n",
      "layers.2.block_sparse_moe.experts.10.w1.weight layers.2.block_sparse_moe.experts.4.w1.weight\n",
      "layers.2.block_sparse_moe.experts.10.w2.weight layers.2.block_sparse_moe.experts.4.w2.weight\n",
      "layers.2.block_sparse_moe.experts.10.w3.weight layers.2.block_sparse_moe.experts.4.w3.weight\n",
      "layers.2.block_sparse_moe.experts.11.w1.weight layers.2.block_sparse_moe.experts.5.w1.weight\n",
      "layers.2.block_sparse_moe.experts.11.w2.weight layers.2.block_sparse_moe.experts.5.w2.weight\n",
      "layers.2.block_sparse_moe.experts.11.w3.weight layers.2.block_sparse_moe.experts.5.w3.weight\n",
      "layers.2.block_sparse_moe.experts.12.w1.weight layers.2.block_sparse_moe.experts.6.w1.weight\n",
      "layers.2.block_sparse_moe.experts.12.w2.weight layers.2.block_sparse_moe.experts.6.w2.weight\n",
      "layers.2.block_sparse_moe.experts.12.w3.weight layers.2.block_sparse_moe.experts.6.w3.weight\n",
      "layers.2.block_sparse_moe.experts.13.w1.weight layers.2.block_sparse_moe.experts.7.w1.weight\n",
      "layers.2.block_sparse_moe.experts.13.w2.weight layers.2.block_sparse_moe.experts.7.w2.weight\n",
      "layers.2.block_sparse_moe.experts.13.w3.weight layers.2.block_sparse_moe.experts.7.w3.weight\n",
      "layers.3.block_sparse_moe.experts.0.w1.weight layers.3.block_sparse_moe.experts.0.w1.weight\n",
      "layers.3.block_sparse_moe.experts.0.w2.weight layers.3.block_sparse_moe.experts.0.w2.weight\n",
      "layers.3.block_sparse_moe.experts.0.w3.weight layers.3.block_sparse_moe.experts.0.w3.weight\n",
      "layers.3.block_sparse_moe.experts.1.w1.weight layers.3.block_sparse_moe.experts.0.w1.weight\n",
      "layers.3.block_sparse_moe.experts.1.w2.weight layers.3.block_sparse_moe.experts.0.w2.weight\n",
      "layers.3.block_sparse_moe.experts.1.w3.weight layers.3.block_sparse_moe.experts.0.w3.weight\n",
      "layers.3.block_sparse_moe.experts.2.w1.weight layers.3.block_sparse_moe.experts.0.w1.weight\n",
      "layers.3.block_sparse_moe.experts.2.w2.weight layers.3.block_sparse_moe.experts.0.w2.weight\n",
      "layers.3.block_sparse_moe.experts.2.w3.weight layers.3.block_sparse_moe.experts.0.w3.weight\n",
      "layers.3.block_sparse_moe.experts.3.w1.weight layers.3.block_sparse_moe.experts.1.w1.weight\n",
      "layers.3.block_sparse_moe.experts.3.w2.weight layers.3.block_sparse_moe.experts.1.w2.weight\n",
      "layers.3.block_sparse_moe.experts.3.w3.weight layers.3.block_sparse_moe.experts.1.w3.weight\n",
      "layers.3.block_sparse_moe.experts.4.w1.weight layers.3.block_sparse_moe.experts.1.w1.weight\n",
      "layers.3.block_sparse_moe.experts.4.w2.weight layers.3.block_sparse_moe.experts.1.w2.weight\n",
      "layers.3.block_sparse_moe.experts.4.w3.weight layers.3.block_sparse_moe.experts.1.w3.weight\n",
      "layers.3.block_sparse_moe.experts.5.w1.weight layers.3.block_sparse_moe.experts.2.w1.weight\n",
      "layers.3.block_sparse_moe.experts.5.w2.weight layers.3.block_sparse_moe.experts.2.w2.weight\n",
      "layers.3.block_sparse_moe.experts.5.w3.weight layers.3.block_sparse_moe.experts.2.w3.weight\n",
      "layers.3.block_sparse_moe.experts.6.w1.weight layers.3.block_sparse_moe.experts.2.w1.weight\n",
      "layers.3.block_sparse_moe.experts.6.w2.weight layers.3.block_sparse_moe.experts.2.w2.weight\n",
      "layers.3.block_sparse_moe.experts.6.w3.weight layers.3.block_sparse_moe.experts.2.w3.weight\n",
      "layers.3.block_sparse_moe.experts.7.w1.weight layers.3.block_sparse_moe.experts.3.w1.weight\n",
      "layers.3.block_sparse_moe.experts.7.w2.weight layers.3.block_sparse_moe.experts.3.w2.weight\n",
      "layers.3.block_sparse_moe.experts.7.w3.weight layers.3.block_sparse_moe.experts.3.w3.weight\n",
      "layers.3.block_sparse_moe.experts.8.w1.weight layers.3.block_sparse_moe.experts.4.w1.weight\n",
      "layers.3.block_sparse_moe.experts.8.w2.weight layers.3.block_sparse_moe.experts.4.w2.weight\n",
      "layers.3.block_sparse_moe.experts.8.w3.weight layers.3.block_sparse_moe.experts.4.w3.weight\n",
      "layers.3.block_sparse_moe.experts.9.w1.weight layers.3.block_sparse_moe.experts.4.w1.weight\n",
      "layers.3.block_sparse_moe.experts.9.w2.weight layers.3.block_sparse_moe.experts.4.w2.weight\n",
      "layers.3.block_sparse_moe.experts.9.w3.weight layers.3.block_sparse_moe.experts.4.w3.weight\n",
      "layers.3.block_sparse_moe.experts.10.w1.weight layers.3.block_sparse_moe.experts.4.w1.weight\n",
      "layers.3.block_sparse_moe.experts.10.w2.weight layers.3.block_sparse_moe.experts.4.w2.weight\n",
      "layers.3.block_sparse_moe.experts.10.w3.weight layers.3.block_sparse_moe.experts.4.w3.weight\n",
      "layers.3.block_sparse_moe.experts.11.w1.weight layers.3.block_sparse_moe.experts.5.w1.weight\n",
      "layers.3.block_sparse_moe.experts.11.w2.weight layers.3.block_sparse_moe.experts.5.w2.weight\n",
      "layers.3.block_sparse_moe.experts.11.w3.weight layers.3.block_sparse_moe.experts.5.w3.weight\n",
      "layers.3.block_sparse_moe.experts.12.w1.weight layers.3.block_sparse_moe.experts.6.w1.weight\n",
      "layers.3.block_sparse_moe.experts.12.w2.weight layers.3.block_sparse_moe.experts.6.w2.weight\n",
      "layers.3.block_sparse_moe.experts.12.w3.weight layers.3.block_sparse_moe.experts.6.w3.weight\n",
      "layers.3.block_sparse_moe.experts.13.w1.weight layers.3.block_sparse_moe.experts.7.w1.weight\n",
      "layers.3.block_sparse_moe.experts.13.w2.weight layers.3.block_sparse_moe.experts.7.w2.weight\n",
      "layers.3.block_sparse_moe.experts.13.w3.weight layers.3.block_sparse_moe.experts.7.w3.weight\n"
     ]
    }
   ],
   "execution_count": 6
  },
  {
   "cell_type": "code",
   "id": "fe509ff7f1439455",
   "metadata": {
    "ExecuteTime": {
     "end_time": "2024-08-19T20:37:40.226386Z",
     "start_time": "2024-08-19T20:37:40.216440Z"
    }
   },
   "source": [
    "dupxtral_model.load_state_dict(new_state_dict)"
   ],
   "outputs": [
    {
     "data": {
      "text/plain": [
       "<All keys matched successfully>"
      ]
     },
     "execution_count": 7,
     "metadata": {},
     "output_type": "execute_result"
    }
   ],
   "execution_count": 7
  },
  {
   "cell_type": "code",
   "id": "d6515b5705e47cae",
   "metadata": {
    "ExecuteTime": {
     "end_time": "2024-08-19T20:37:40.230048Z",
     "start_time": "2024-08-19T20:37:40.227872Z"
    }
   },
   "source": [
    "\n",
    "# fake tokenized input for testing\n",
    "input_ids = torch.randint(0, 128, (3, 11))\n"
   ],
   "outputs": [],
   "execution_count": 8
  },
  {
   "cell_type": "code",
   "id": "110e49914deb893",
   "metadata": {
    "ExecuteTime": {
     "end_time": "2024-08-19T20:37:40.249443Z",
     "start_time": "2024-08-19T20:37:40.230877Z"
    }
   },
   "source": [
    "# Output with dupxtral model\n",
    "\n",
    "output = dupxtral_model(input_ids)\n",
    "output.last_hidden_state[0, 0, :9]\n",
    "    \n"
   ],
   "outputs": [
    {
     "data": {
      "text/plain": [
       "tensor([ 1.1253,  0.9082,  0.2913, -1.3833,  0.6576, -0.1448, -0.7565,  1.4091,\n",
       "        -1.2657], grad_fn=<SliceBackward0>)"
      ]
     },
     "execution_count": 9,
     "metadata": {},
     "output_type": "execute_result"
    }
   ],
   "execution_count": 9
  },
  {
   "cell_type": "code",
   "id": "404014c5eae75d02",
   "metadata": {
    "ExecuteTime": {
     "end_time": "2024-08-19T20:37:40.264959Z",
     "start_time": "2024-08-19T20:37:40.251036Z"
    }
   },
   "source": [
    "# Output with initial model\n",
    "\n",
    "output_initial = initial_model(input_ids)\n",
    "output_initial.last_hidden_state[0, 0, :9]\n"
   ],
   "outputs": [
    {
     "data": {
      "text/plain": [
       "tensor([ 1.1253,  0.9082,  0.2913, -1.3833,  0.6576, -0.1448, -0.7565,  1.4091,\n",
       "        -1.2657], grad_fn=<SliceBackward0>)"
      ]
     },
     "execution_count": 10,
     "metadata": {},
     "output_type": "execute_result"
    }
   ],
   "execution_count": 10
  },
  {
   "cell_type": "code",
   "id": "30e10b0a2d992ae7",
   "metadata": {
    "ExecuteTime": {
     "end_time": "2024-08-19T20:37:40.268865Z",
     "start_time": "2024-08-19T20:37:40.266004Z"
    }
   },
   "source": [
    "# single token\n",
    "input_ids = torch.randint(0, 128, (1, 1))\n"
   ],
   "outputs": [],
   "execution_count": 11
  },
  {
   "metadata": {
    "ExecuteTime": {
     "end_time": "2024-08-19T20:37:40.279976Z",
     "start_time": "2024-08-19T20:37:40.270117Z"
    }
   },
   "cell_type": "code",
   "source": [
    "\n",
    "# Output with dupxtral model\n",
    "output = dupxtral_model(input_ids)\n",
    "output.last_hidden_state[0, 0, :9]"
   ],
   "id": "3a09a177b7f9f651",
   "outputs": [
    {
     "data": {
      "text/plain": [
       "tensor([-0.3803,  1.2390, -0.5362, -1.1918,  0.2402, -1.7913, -1.1191,  0.9954,\n",
       "        -1.5569], grad_fn=<SliceBackward0>)"
      ]
     },
     "execution_count": 12,
     "metadata": {},
     "output_type": "execute_result"
    }
   ],
   "execution_count": 12
  },
  {
   "metadata": {
    "ExecuteTime": {
     "end_time": "2024-08-19T20:37:40.293228Z",
     "start_time": "2024-08-19T20:37:40.281465Z"
    }
   },
   "cell_type": "code",
   "source": [
    "# Output with initial model\n",
    "output_initial = initial_model(input_ids)\n",
    "output_initial.last_hidden_state[0, 0, :9]\n",
    "\n"
   ],
   "id": "f0807fa84015bd72",
   "outputs": [
    {
     "data": {
      "text/plain": [
       "tensor([-0.3803,  1.2390, -0.5362, -1.1918,  0.2402, -1.7913, -1.1191,  0.9954,\n",
       "        -1.5569], grad_fn=<SliceBackward0>)"
      ]
     },
     "execution_count": 13,
     "metadata": {},
     "output_type": "execute_result"
    }
   ],
   "execution_count": 13
  },
  {
   "metadata": {
    "ExecuteTime": {
     "end_time": "2024-08-19T20:37:40.296503Z",
     "start_time": "2024-08-19T20:37:40.294420Z"
    }
   },
   "cell_type": "code",
   "source": "",
   "id": "4758d1bb69b855cd",
   "outputs": [],
   "execution_count": 13
  }
 ],
 "metadata": {
  "kernelspec": {
   "display_name": "Python 3 (ipykernel)",
   "language": "python",
   "name": "python3"
  },
  "language_info": {
   "codemirror_mode": {
    "name": "ipython",
    "version": 3
   },
   "file_extension": ".py",
   "mimetype": "text/x-python",
   "name": "python",
   "nbconvert_exporter": "python",
   "pygments_lexer": "ipython3",
   "version": "3.12.3"
  }
 },
 "nbformat": 4,
 "nbformat_minor": 5
}
