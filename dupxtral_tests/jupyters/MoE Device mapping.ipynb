{
 "cells": [
  {
   "cell_type": "code",
   "id": "initial_id",
   "metadata": {
    "collapsed": true,
    "ExecuteTime": {
     "end_time": "2024-06-27T15:18:19.385618Z",
     "start_time": "2024-06-27T15:18:19.280958Z"
    }
   },
   "source": [
    "\n",
    "from transformers.models.mixtral import MixtralConfig, MixtralModel\n",
    "from accelerate import dispatch_model\n",
    "mixtral_config = MixtralConfig(\n",
    "    forward='base',\n",
    "    hidden_size=16,\n",
    "    num_experts=8,\n",
    "    intermediate_size=32,\n",
    "    vocab_size=256,\n",
    "    num_attention_heads=4,\n",
    "    num_key_value_heads=2,\n",
    "    num_hidden_layers=2,\n",
    ")\n",
    "\n",
    "mixtral = MixtralModel(mixtral_config)\n"
   ],
   "outputs": [],
   "execution_count": 25
  },
  {
   "metadata": {
    "ExecuteTime": {
     "end_time": "2024-06-27T15:14:00.407340Z",
     "start_time": "2024-06-27T15:14:00.400559Z"
    }
   },
   "cell_type": "code",
   "source": [
    "import regex as re\n",
    "\n",
    "\n",
    "example = \"layers.0.block_sparse_moe.experts.0.w1\"\n",
    "\n",
    "# make a regex that matches *{layer_id}.block_sparse_moe.experts.{expert_id}*\n",
    "\n",
    "expert_re = re.compile(r\"layers\\.(?P<layer_id>\\d+)\\.block_sparse_moe\\.experts\\.(?P<expert_id>\\d+)\")\n",
    "\n",
    "re.match(expert_re, example).groupdict()\n"
   ],
   "id": "900cd4c99ffe118d",
   "outputs": [
    {
     "data": {
      "text/plain": [
       "{'layer_id': '0', 'expert_id': '0'}"
      ]
     },
     "execution_count": 10,
     "metadata": {},
     "output_type": "execute_result"
    }
   ],
   "execution_count": 10
  },
  {
   "metadata": {
    "ExecuteTime": {
     "end_time": "2024-06-27T19:47:56.129504Z",
     "start_time": "2024-06-27T19:47:56.125353Z"
    }
   },
   "cell_type": "code",
   "source": [
    "\n",
    "\n",
    "mapping = {}\n",
    "for name, m in mixtral.named_modules():\n",
    "    splitted = name.split(\".\")\n",
    "    \n",
    "        \n",
    "    if name == '':\n",
    "        continue\n",
    "        \n",
    "    # match the expert name\n",
    "    match = re.match(expert_re, name)\n",
    "    if match:\n",
    "        expert_id = int(match.group(\"expert_id\"))\n",
    "        mapping[name] = f\"cuda:{expert_id % 2}\"\n",
    "    else:\n",
    "        mapping[name] = \"cuda:0\"\n",
    "        "
   ],
   "id": "be8b1a549d44d8bd",
   "outputs": [],
   "execution_count": 26
  },
  {
   "metadata": {
    "ExecuteTime": {
     "end_time": "2024-06-27T19:47:56.581687Z",
     "start_time": "2024-06-27T19:47:56.578914Z"
    }
   },
   "cell_type": "code",
   "source": "mapping",
   "id": "d5d1256d74f3cd95",
   "outputs": [
    {
     "data": {
      "text/plain": [
       "{'embed_tokens': 'cuda:0',\n",
       " 'layers': 'cuda:0',\n",
       " 'layers.0': 'cuda:0',\n",
       " 'layers.0.self_attn': 'cuda:0',\n",
       " 'layers.0.self_attn.q_proj': 'cuda:0',\n",
       " 'layers.0.self_attn.k_proj': 'cuda:0',\n",
       " 'layers.0.self_attn.v_proj': 'cuda:0',\n",
       " 'layers.0.self_attn.o_proj': 'cuda:0',\n",
       " 'layers.0.self_attn.rotary_emb': 'cuda:0',\n",
       " 'layers.0.block_sparse_moe': 'cuda:0',\n",
       " 'layers.0.block_sparse_moe.gate': 'cuda:0',\n",
       " 'layers.0.block_sparse_moe.experts': 'cuda:0',\n",
       " 'layers.0.block_sparse_moe.experts.0': 'cuda:0',\n",
       " 'layers.0.block_sparse_moe.experts.1': 'cuda:1',\n",
       " 'layers.0.block_sparse_moe.experts.2': 'cuda:0',\n",
       " 'layers.0.block_sparse_moe.experts.3': 'cuda:1',\n",
       " 'layers.0.block_sparse_moe.experts.4': 'cuda:0',\n",
       " 'layers.0.block_sparse_moe.experts.5': 'cuda:1',\n",
       " 'layers.0.block_sparse_moe.experts.6': 'cuda:0',\n",
       " 'layers.0.block_sparse_moe.experts.7': 'cuda:1',\n",
       " 'layers.0.input_layernorm': 'cuda:0',\n",
       " 'layers.0.post_attention_layernorm': 'cuda:0',\n",
       " 'layers.1': 'cuda:0',\n",
       " 'layers.1.self_attn': 'cuda:0',\n",
       " 'layers.1.self_attn.q_proj': 'cuda:0',\n",
       " 'layers.1.self_attn.k_proj': 'cuda:0',\n",
       " 'layers.1.self_attn.v_proj': 'cuda:0',\n",
       " 'layers.1.self_attn.o_proj': 'cuda:0',\n",
       " 'layers.1.self_attn.rotary_emb': 'cuda:0',\n",
       " 'layers.1.block_sparse_moe': 'cuda:0',\n",
       " 'layers.1.block_sparse_moe.gate': 'cuda:0',\n",
       " 'layers.1.block_sparse_moe.experts': 'cuda:0',\n",
       " 'layers.1.block_sparse_moe.experts.0': 'cuda:0',\n",
       " 'layers.1.block_sparse_moe.experts.1': 'cuda:1',\n",
       " 'layers.1.block_sparse_moe.experts.2': 'cuda:0',\n",
       " 'layers.1.block_sparse_moe.experts.3': 'cuda:1',\n",
       " 'layers.1.block_sparse_moe.experts.4': 'cuda:0',\n",
       " 'layers.1.block_sparse_moe.experts.5': 'cuda:1',\n",
       " 'layers.1.block_sparse_moe.experts.6': 'cuda:0',\n",
       " 'layers.1.block_sparse_moe.experts.7': 'cuda:1',\n",
       " 'layers.1.input_layernorm': 'cuda:0',\n",
       " 'layers.1.post_attention_layernorm': 'cuda:0',\n",
       " 'norm': 'cuda:0'}"
      ]
     },
     "execution_count": 27,
     "metadata": {},
     "output_type": "execute_result"
    }
   ],
   "execution_count": 27
  },
  {
   "metadata": {},
   "cell_type": "code",
   "outputs": [],
   "execution_count": null,
   "source": "",
   "id": "9879eb902588357f"
  }
 ],
 "metadata": {
  "kernelspec": {
   "display_name": "Python 3",
   "language": "python",
   "name": "python3"
  },
  "language_info": {
   "codemirror_mode": {
    "name": "ipython",
    "version": 2
   },
   "file_extension": ".py",
   "mimetype": "text/x-python",
   "name": "python",
   "nbconvert_exporter": "python",
   "pygments_lexer": "ipython2",
   "version": "2.7.6"
  }
 },
 "nbformat": 4,
 "nbformat_minor": 5
}
