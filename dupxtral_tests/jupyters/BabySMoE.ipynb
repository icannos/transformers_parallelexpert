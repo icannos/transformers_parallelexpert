{
 "cells": [
  {
   "cell_type": "code",
   "id": "initial_id",
   "metadata": {
    "collapsed": true,
    "ExecuteTime": {
     "end_time": "2024-06-23T18:34:12.904390Z",
     "start_time": "2024-06-23T18:34:11.348774Z"
    }
   },
   "source": [
    "\n",
    "from transformers.models.smoe.configuration_smoe import SmoeConfig\n",
    "from transformers.models.smoe.modeling_smoe import SmoeModel\n",
    "\n",
    "\n",
    "import torch\n",
    "from torch import nn\n",
    "from torch.nn import functional as F\n"
   ],
   "outputs": [],
   "execution_count": 1
  },
  {
   "metadata": {
    "ExecuteTime": {
     "end_time": "2024-06-23T18:34:13.501717Z",
     "start_time": "2024-06-23T18:34:12.905306Z"
    }
   },
   "cell_type": "code",
   "source": [
    "\n",
    "baby_smoe_config = SmoeConfig(hidden_size=128, \n",
    "                              num_experts=4, \n",
    "                              intermediate_size=256, \n",
    "                              vocab_size=256,\n",
    "                              num_attention_heads=4,\n",
    "                              num_key_value_heads=2,\n",
    "                              num_hidden_layers=32,\n",
    "                              )\n",
    "\n",
    "baby_smoe = SmoeModel(baby_smoe_config)"
   ],
   "id": "cee5b7b38aa3f685",
   "outputs": [],
   "execution_count": 2
  },
  {
   "metadata": {
    "ExecuteTime": {
     "end_time": "2024-06-23T18:34:13.737555Z",
     "start_time": "2024-06-23T18:34:13.502434Z"
    }
   },
   "cell_type": "code",
   "source": [
    "\n",
    "input_ids = torch.randint(0, 128, (3, 11))\n",
    "\n",
    "output = baby_smoe(input_ids)\n"
   ],
   "id": "5e508846c5979d9b",
   "outputs": [],
   "execution_count": 3
  },
  {
   "metadata": {
    "ExecuteTime": {
     "end_time": "2024-06-23T18:34:13.744213Z",
     "start_time": "2024-06-23T18:34:13.738898Z"
    }
   },
   "cell_type": "code",
   "source": "output.last_hidden_state[0, 0, :10]",
   "id": "152f23a16f46f998",
   "outputs": [
    {
     "data": {
      "text/plain": [
       "tensor([-0.2886, -0.6907,  0.7627,  0.1214, -1.3029,  1.0295,  0.7874, -0.8650,\n",
       "        -0.4277, -0.8532], grad_fn=<SliceBackward0>)"
      ]
     },
     "execution_count": 4,
     "metadata": {},
     "output_type": "execute_result"
    }
   ],
   "execution_count": 4
  },
  {
   "metadata": {
    "ExecuteTime": {
     "end_time": "2024-06-23T18:34:13.751610Z",
     "start_time": "2024-06-23T18:34:13.745138Z"
    }
   },
   "cell_type": "code",
   "source": "baby_smoe",
   "id": "9fc42a7a35ea3a2",
   "outputs": [
    {
     "data": {
      "text/plain": [
       "SmoeModel(\n",
       "  (embed_tokens): Embedding(256, 128)\n",
       "  (shared_moe_block): SmoeSharedExpertPoolDecoderLayer(\n",
       "    (moe_block): SmoeSparseMoeBlock(\n",
       "      (gate): Linear(in_features=128, out_features=4, bias=False)\n",
       "      (experts): ModuleList(\n",
       "        (0-3): 4 x SmoeBlockSparseTop2MLP(\n",
       "          (w1): Linear(in_features=128, out_features=256, bias=False)\n",
       "          (w2): Linear(in_features=256, out_features=128, bias=False)\n",
       "          (w3): Linear(in_features=128, out_features=256, bias=False)\n",
       "          (act_fn): SiLU()\n",
       "        )\n",
       "      )\n",
       "    )\n",
       "    (self_attn): ModuleList(\n",
       "      (0-31): 32 x SmoeSdpaAttention(\n",
       "        (q_proj): Linear(in_features=128, out_features=128, bias=False)\n",
       "        (k_proj): Linear(in_features=128, out_features=64, bias=False)\n",
       "        (v_proj): Linear(in_features=128, out_features=64, bias=False)\n",
       "        (o_proj): Linear(in_features=128, out_features=128, bias=False)\n",
       "        (rotary_emb): SmoeRotaryEmbedding()\n",
       "      )\n",
       "    )\n",
       "  )\n",
       "  (norm): SmoeRMSNorm()\n",
       ")"
      ]
     },
     "execution_count": 5,
     "metadata": {},
     "output_type": "execute_result"
    }
   ],
   "execution_count": 5
  },
  {
   "metadata": {
    "ExecuteTime": {
     "end_time": "2024-06-23T18:34:13.754208Z",
     "start_time": "2024-06-23T18:34:13.752480Z"
    }
   },
   "cell_type": "code",
   "source": "",
   "id": "e633490d5a148ef",
   "outputs": [],
   "execution_count": 5
  }
 ],
 "metadata": {
  "kernelspec": {
   "display_name": "Python 3",
   "language": "python",
   "name": "python3"
  },
  "language_info": {
   "codemirror_mode": {
    "name": "ipython",
    "version": 2
   },
   "file_extension": ".py",
   "mimetype": "text/x-python",
   "name": "python",
   "nbconvert_exporter": "python",
   "pygments_lexer": "ipython2",
   "version": "2.7.6"
  }
 },
 "nbformat": 4,
 "nbformat_minor": 5
}
