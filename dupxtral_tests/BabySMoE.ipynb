{
 "cells": [
  {
   "cell_type": "code",
   "id": "initial_id",
   "metadata": {
    "collapsed": true,
    "ExecuteTime": {
     "end_time": "2024-06-23T17:50:09.671680Z",
     "start_time": "2024-06-23T17:50:07.972505Z"
    }
   },
   "source": [
    "\n",
    "from transformers.models.smoe.configuration_smoe import SmoeConfig\n",
    "from transformers.models.smoe.modeling_smoe import SmoeModel\n",
    "\n",
    "\n",
    "import torch\n",
    "from torch import nn\n",
    "from torch.nn import functional as F\n"
   ],
   "outputs": [],
   "execution_count": 1
  },
  {
   "metadata": {
    "ExecuteTime": {
     "end_time": "2024-06-23T17:50:10.330976Z",
     "start_time": "2024-06-23T17:50:09.672858Z"
    }
   },
   "cell_type": "code",
   "source": [
    "\n",
    "baby_smoe_config = SmoeConfig(hidden_size=128, \n",
    "                              num_experts=4, \n",
    "                              intermediate_size=256, \n",
    "                              vocab_size=256,\n",
    "                              num_attention_heads=4,\n",
    "                              num_key_value_heads=2,\n",
    "                              num_hidden_layers=32,\n",
    "                              )\n",
    "\n",
    "baby_smoe = SmoeModel(baby_smoe_config)"
   ],
   "id": "cee5b7b38aa3f685",
   "outputs": [],
   "execution_count": 2
  },
  {
   "metadata": {
    "ExecuteTime": {
     "end_time": "2024-06-23T17:50:10.600123Z",
     "start_time": "2024-06-23T17:50:10.332129Z"
    }
   },
   "cell_type": "code",
   "source": [
    "\n",
    "input_ids = torch.randint(0, 128, (3, 11))\n",
    "\n",
    "output = baby_smoe(input_ids)\n"
   ],
   "id": "5e508846c5979d9b",
   "outputs": [],
   "execution_count": 3
  },
  {
   "metadata": {
    "ExecuteTime": {
     "end_time": "2024-06-23T17:50:20.098724Z",
     "start_time": "2024-06-23T17:50:20.094367Z"
    }
   },
   "cell_type": "code",
   "source": "output.last_hidden_state[0, 0, :10]",
   "id": "152f23a16f46f998",
   "outputs": [
    {
     "data": {
      "text/plain": [
       "tensor([ 1.1950, -1.1664, -0.4330, -0.6574,  1.5219,  0.3069,  0.3936, -1.6512,\n",
       "        -0.5814,  0.8797], grad_fn=<SliceBackward0>)"
      ]
     },
     "execution_count": 5,
     "metadata": {},
     "output_type": "execute_result"
    }
   ],
   "execution_count": 5
  },
  {
   "metadata": {},
   "cell_type": "code",
   "outputs": [],
   "execution_count": null,
   "source": "",
   "id": "9fc42a7a35ea3a2"
  }
 ],
 "metadata": {
  "kernelspec": {
   "display_name": "Python 3",
   "language": "python",
   "name": "python3"
  },
  "language_info": {
   "codemirror_mode": {
    "name": "ipython",
    "version": 2
   },
   "file_extension": ".py",
   "mimetype": "text/x-python",
   "name": "python",
   "nbconvert_exporter": "python",
   "pygments_lexer": "ipython2",
   "version": "2.7.6"
  }
 },
 "nbformat": 4,
 "nbformat_minor": 5
}
